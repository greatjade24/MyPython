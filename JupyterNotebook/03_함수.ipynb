{
 "cells": [
  {
   "cell_type": "markdown",
   "metadata": {},
   "source": [
    "### 문제1"
   ]
  },
  {
   "cell_type": "markdown",
   "metadata": {},
   "source": [
    "성적이 90점이상이면 A, 80점 이상이면 B, 70점 이상이면 C, 60점 이상이면 D, 그외에는 F를 반환하는 함수 get_grade(score)를 작성하고 테스트하라.\n",
    "\n",
    "[실행 결과]  \n",
    "정수를 입력하세요: 83  \n",
    "성적은 B 입니다.\n"
   ]
  },
  {
   "cell_type": "code",
   "execution_count": null,
   "metadata": {},
   "outputs": [],
   "source": [
    "def get_grade(score):\n",
    "    grade = 'F'\n",
    "    if score >= 90:\n",
    "        grade = 'A'\n",
    "    elif score >= 80:\n",
    "        grade = 'B'\n",
    "    elif score >= 70:\n",
    "        grade = 'C'\n",
    "    elif score >= 60:\n",
    "        grade = 'D'\n",
    "    \n",
    "    print('성적은 ' + grade + ' 입니다.')"
   ]
  },
  {
   "cell_type": "code",
   "execution_count": null,
   "metadata": {},
   "outputs": [],
   "source": [
    "get_grade(99)"
   ]
  },
  {
   "cell_type": "markdown",
   "metadata": {},
   "source": [
    "### 문제2"
   ]
  },
  {
   "cell_type": "markdown",
   "metadata": {},
   "source": [
    "다음과 같은 프로그램의 출력을 예상해보자. \n",
    "\n",
    "```python\n",
    "def decrement(value):\n",
    "\tvalue -= 1\n",
    "\n",
    "n = 1\n",
    "decrement(n)\n",
    "print(n)\n",
    "```"
   ]
  },
  {
   "cell_type": "code",
   "execution_count": null,
   "metadata": {},
   "outputs": [],
   "source": [
    "1"
   ]
  },
  {
   "cell_type": "markdown",
   "metadata": {},
   "source": [
    "### 문제3"
   ]
  },
  {
   "cell_type": "markdown",
   "metadata": {},
   "source": [
    "사용자로부터 두 개의 정수를 입력받아서 최대 공약수를 찾는 함수를 작성해보자. 가강 간단한 알고리즘을 생각하자.  \n",
    "\n",
    "[실행 결과]  \n",
    "첫번째 정수 : 36  \n",
    "두번째 정수 : 12  \n",
    "12"
   ]
  },
  {
   "cell_type": "code",
   "execution_count": null,
   "metadata": {},
   "outputs": [],
   "source": [
    "def find_gcd(first, second):\n",
    "    i = 1\n",
    "    n = 0\n",
    "    \n",
    "    while(i <= first or i <= second):\n",
    "        if first %  i == 0 and second % i == 0:\n",
    "            n = i\n",
    "        i += 1\n",
    "    \n",
    "    print(n)"
   ]
  },
  {
   "cell_type": "code",
   "execution_count": null,
   "metadata": {},
   "outputs": [],
   "source": [
    "a = int(input('첫 번째 정수 : '))\n",
    "b = int(input('두 번째 정수 : '))\n",
    "\n",
    "find_gcd(a, b)"
   ]
  },
  {
   "cell_type": "markdown",
   "metadata": {},
   "source": [
    "### 문제4"
   ]
  },
  {
   "cell_type": "markdown",
   "metadata": {},
   "source": [
    "주어진 정수가 소수인지를 검사하는 함수 check_prime(n)를 작성하고 이 함수를 호출하여서 2부터 100 사이의 소수를 출력하여 보자.   \n",
    "\n",
    "[실행 명령문]  \n",
    "```python\n",
    "for i in range(2, 101):\n",
    "    check_prime(i)\n",
    "```\n",
    "\n",
    "[실행 결과]  \n",
    "2 3 5 7 11 13 17 19 23 29 31 37 41 43 47 53 59 61 67 71 73 79 83 89 97 "
   ]
  },
  {
   "cell_type": "code",
   "execution_count": null,
   "metadata": {},
   "outputs": [],
   "source": [
    "def check_prime(n):\n",
    "    num = n\n",
    "    i = 2\n",
    "    while(i < n):\n",
    "        if n % i == 0:\n",
    "            break\n",
    "        i += 1\n",
    "    print(num, end=\" \")    \n"
   ]
  },
  {
   "cell_type": "code",
   "execution_count": null,
   "metadata": {},
   "outputs": [],
   "source": [
    "for i in range(2, 101):\n",
    "    check_prime(i)"
   ]
  },
  {
   "cell_type": "markdown",
   "metadata": {},
   "source": [
    "### 문제5"
   ]
  },
  {
   "cell_type": "markdown",
   "metadata": {},
   "source": [
    "사용자가 입력한 10진수를 2진수 문자열로 변환하는 함수 deci2bin(n)을 작성하고 테스트하라. \n",
    "\n",
    "[실행 결과]  \n",
    "10진수 : 32  \n",
    "100000"
   ]
  },
  {
   "cell_type": "code",
   "execution_count": null,
   "metadata": {},
   "outputs": [],
   "source": [
    "def deci2bin(n):\n",
    "    bi_num = format(n, 'b')\n",
    "    print(bi_num)"
   ]
  },
  {
   "cell_type": "code",
   "execution_count": null,
   "metadata": {},
   "outputs": [],
   "source": [
    "n = int(input('10진수 : '))\n",
    "deci2bin(n)"
   ]
  },
  {
   "cell_type": "markdown",
   "metadata": {},
   "source": [
    "### 문제6"
   ]
  },
  {
   "cell_type": "markdown",
   "metadata": {},
   "source": [
    "다음과 같은 코드에서 오류가 발생하는 이유는?  \n",
    "\n",
    "```python\n",
    "global_var = 0\n",
    "def sub():\n",
    "    local_var = 1\n",
    "    print(global_var)\n",
    "    print(local_var)\n",
    "sub()\n",
    "print(global_var)\n",
    "print(local_var)\n",
    "\n",
    "```"
   ]
  },
  {
   "cell_type": "markdown",
   "metadata": {},
   "source": [
    "sub()의 지역변수 local_var를 함수 밖에서 사용하려고 했기 때문"
   ]
  },
  {
   "cell_type": "markdown",
   "metadata": {},
   "source": [
    "### 문제7"
   ]
  },
  {
   "cell_type": "markdown",
   "metadata": {},
   "source": [
    "원의 면적을 계산하는 함수 calc_area(radius)을 정의하고 테스트한다. 만약 원의 반지름이 주어지지 않았으면 5.0으로 간주한다. 함수의 ”기본 인수“를 사용하라. (PI = 3.141692)  \n",
    "\n",
    "[실행 명령문]  \n",
    "calc_area()  \n",
    "calc_area(4.0)  \n",
    "\n",
    "[실행 결과]  \n",
    "78.5423  \n",
    "50.267072\n"
   ]
  },
  {
   "cell_type": "code",
   "execution_count": null,
   "metadata": {},
   "outputs": [],
   "source": [
    "def calc_area(radius=5.0):\n",
    "    print(radius ** 2 * 3.141692)"
   ]
  },
  {
   "cell_type": "code",
   "execution_count": null,
   "metadata": {},
   "outputs": [],
   "source": [
    "calc_area()\n",
    "calc_area(4.0)"
   ]
  },
  {
   "cell_type": "markdown",
   "metadata": {},
   "source": [
    "### 문제8"
   ]
  },
  {
   "cell_type": "markdown",
   "metadata": {},
   "source": [
    "두 개의 수를 받아서 오름차순으로 반환하는 함수 getSorted(x, y)를 작성하고 반환한다. 함수가 2개의 값을 반환하려면 다음과 같이 한다.    \n",
    "  \n",
    "[실행 명령문]    \n",
    "a, b = getSorted(30, 20)    \n",
    "\n",
    "[실행 결과]    \n",
    "첫번째 정수 :  30  \n",
    "두번째 정수 : 20  \n",
    "(20, 30)"
   ]
  },
  {
   "cell_type": "code",
   "execution_count": null,
   "metadata": {},
   "outputs": [],
   "source": [
    "def getSorted(x, y):\n",
    "    return sorted((x, y))"
   ]
  },
  {
   "cell_type": "code",
   "execution_count": null,
   "metadata": {},
   "outputs": [],
   "source": [
    "int(input('첫번째 정수 : '))\n",
    "int(input('두번째 정수 : '))\n",
    "a, b = getSorted(30, 20)\n",
    "\n",
    "print(a, b, sep=\", \")"
   ]
  },
  {
   "cell_type": "markdown",
   "metadata": {},
   "source": [
    "### 문제9"
   ]
  },
  {
   "cell_type": "markdown",
   "metadata": {},
   "source": [
    "다음의 코드가 실행되었을때 출력되는 result값은 무엇인가? \n",
    "```python\n",
    "def f(x):\n",
    "    return x * x + x\n",
    "\n",
    "result = f(2)\n",
    "print(result)\n",
    "```"
   ]
  },
  {
   "cell_type": "markdown",
   "metadata": {},
   "source": [
    "6"
   ]
  },
  {
   "cell_type": "markdown",
   "metadata": {},
   "source": [
    "### 문제10"
   ]
  },
  {
   "cell_type": "markdown",
   "metadata": {},
   "source": [
    "사용자가 low부터 high까지의 정수를 입력하도록 강제하는 함수 getRange(msg, low, high)을 작성하여 보자.  \n",
    "\n",
    "[실행 명령문]  \n",
    "msg = \"시간을 입력하시오(0에서 23까지 가능)\"  \n",
    "value = getRange(msg, 0, 23)  \n",
    "print(\"OK\")  \n",
    "\n",
    "[실행 결과]  \n",
    "시간을 입력하시오(0에서 23까지 가능)27  \n",
    "시간을 입력하시오(0에서 23까지 가능)26  \n",
    "시간을 입력하시오(0에서 23까지 가능)12  \n",
    "OK  "
   ]
  },
  {
   "cell_type": "code",
   "execution_count": 6,
   "metadata": {},
   "outputs": [],
   "source": [
    "def getRange(msg, low, high):\n",
    "    if not low <= msg <= high:\n",
    "        msg = int(input('시간을 입력하시오(0에서 23까지 가능)'))\n",
    "        getRange(msg, low, high)"
   ]
  },
  {
   "cell_type": "code",
   "execution_count": 7,
   "metadata": {},
   "outputs": [
    {
     "name": "stdout",
     "output_type": "stream",
     "text": [
      "시간을 입력하시오(0에서 23까지 가능)27\n",
      "시간을 입력하시오(0에서 23까지 가능)26\n",
      "시간을 입력하시오(0에서 23까지 가능)12\n",
      "OK\n"
     ]
    }
   ],
   "source": [
    "msg = int(input('시간을 입력하시오(0에서 23까지 가능)'))\n",
    "value = getRange(msg, 0, 23)\n",
    "print('OK')"
   ]
  },
  {
   "cell_type": "markdown",
   "metadata": {},
   "source": [
    "### 문제11"
   ]
  },
  {
   "cell_type": "markdown",
   "metadata": {},
   "source": [
    "화씨 온도를 섭씨 온도로 변환하는 함수 f2C(temp)를 작성하고 테스트한다. 섭씨 온도를 화씨 온도로 변환하려면 다음과 같은 공식을 사용한다. \n",
    "```python\n",
    "ctemp = (5.0/9.0)*(temp –32)\n",
    "```\n",
    "\n",
    "[실행 명령문]     \n",
    "f2C(81)   \n",
    "f2C(100)  \n",
    "\n",
    "[실행 결과]  \n",
    "27.222222222222225  \n",
    "37.77777777777778"
   ]
  },
  {
   "cell_type": "code",
   "execution_count": 12,
   "metadata": {},
   "outputs": [],
   "source": [
    "def f2C(temp):\n",
    "    ctemp = (5.0/9.0)*(temp - 32)\n",
    "    print(ctemp)"
   ]
  },
  {
   "cell_type": "code",
   "execution_count": 13,
   "metadata": {},
   "outputs": [
    {
     "name": "stdout",
     "output_type": "stream",
     "text": [
      "27.222222222222225\n",
      "37.77777777777778\n"
     ]
    }
   ],
   "source": [
    "f2C(81)\n",
    "f2C(100)"
   ]
  },
  {
   "cell_type": "markdown",
   "metadata": {},
   "source": [
    "### 문제12"
   ]
  },
  {
   "cell_type": "markdown",
   "metadata": {},
   "source": [
    "count_up() 함수를 작성한다. count_up()은 2개의 정수를 받는다. 2개 정수 사이에 있는 모든 정수를 화면에 출력한다. 다음의 실행 예를 참조하라. \n",
    "\n",
    "[실행 명령문]  \n",
    "count_up(1,5)  \n",
    "  \n",
    "[실행 결과]  \n",
    "2  \n",
    "3  \n",
    "4  "
   ]
  },
  {
   "cell_type": "code",
   "execution_count": 18,
   "metadata": {},
   "outputs": [],
   "source": [
    "def count_up(a, b):\n",
    "    for j in range(a + 1, b):\n",
    "        print(j)"
   ]
  },
  {
   "cell_type": "code",
   "execution_count": 19,
   "metadata": {},
   "outputs": [
    {
     "name": "stdout",
     "output_type": "stream",
     "text": [
      "2\n",
      "3\n",
      "4\n"
     ]
    }
   ],
   "source": [
    "count_up(1,5)"
   ]
  },
  {
   "cell_type": "markdown",
   "metadata": {},
   "source": [
    "### 문제13"
   ]
  },
  {
   "cell_type": "markdown",
   "metadata": {},
   "source": [
    "주어진 자연수가 홀수인지 짝수인지 판별해 주는 함수(is_odd)를 작성해 보자.  \n",
    "\n",
    "[실행 명령문]  \n",
    "is_odd(35)  \n",
    "is_odd(24)  \n",
    "\n",
    "[실행 결과]  \n",
    "짝수  \n",
    "홀수\n"
   ]
  },
  {
   "cell_type": "code",
   "execution_count": 20,
   "metadata": {},
   "outputs": [],
   "source": [
    "def is_odd(n):\n",
    "    if n % 2 == 0:\n",
    "        print('짝수')\n",
    "    else:\n",
    "        print('홀수')"
   ]
  },
  {
   "cell_type": "code",
   "execution_count": 21,
   "metadata": {},
   "outputs": [
    {
     "name": "stdout",
     "output_type": "stream",
     "text": [
      "홀수\n",
      "짝수\n"
     ]
    }
   ],
   "source": [
    "is_odd(35)\n",
    "is_odd(24)"
   ]
  },
  {
   "cell_type": "markdown",
   "metadata": {},
   "source": [
    "### 문제14"
   ]
  },
  {
   "cell_type": "markdown",
   "metadata": {},
   "source": [
    "입력으로 들어오는 모든 수의 평균 값을 계산해 주는 get_avg 함수를 작성한다. (단 입력으로 들어오는 수의 개수는 정해져 있지 않다.)  \n",
    "\n",
    "[실행 명령문]  \n",
    "get_avg(10, 20, 30, 40, 50)  \n",
    "get_avg(1,2,3,4,5,6,7,8,9,10)\n",
    "\n",
    "[실행 결과]  \n",
    "30.0  \n",
    "5.5"
   ]
  },
  {
   "cell_type": "code",
   "execution_count": 24,
   "metadata": {},
   "outputs": [],
   "source": [
    "def get_avg(*args):\n",
    "    sum = 0\n",
    "    for arg in args:\n",
    "        sum += arg\n",
    "        \n",
    "    avg = sum / len(args)\n",
    "    \n",
    "    print(avg)"
   ]
  },
  {
   "cell_type": "code",
   "execution_count": 25,
   "metadata": {},
   "outputs": [
    {
     "name": "stdout",
     "output_type": "stream",
     "text": [
      "30.0\n",
      "5.5\n"
     ]
    }
   ],
   "source": [
    "get_avg(10, 20, 30, 40, 50)\n",
    "get_avg(1,2,3,4,5,6,7,8,9,10)"
   ]
  },
  {
   "cell_type": "markdown",
   "metadata": {},
   "source": [
    "### 문제15"
   ]
  },
  {
   "cell_type": "markdown",
   "metadata": {},
   "source": [
    "add_fruit()함수는 첫번째 인자로 받은 문자열에 두번째 문자열을 추가하여 리턴하는 함수입니다. 실행 결과와 같이 실행되도록 add_fruit()함수를 선언하세요.  \n",
    "\n",
    "[실행 명령문]  \n",
    "```python\n",
    "fruits = '사과 포도 수박'\n",
    "fruits = add_fruit(fruits, '멜론')\n",
    "print(fruits)\n",
    "\n",
    "fruits = add_fruit(fruits, '복숭아')\n",
    "print(fruits)\n",
    "```\n",
    "\n",
    "[실행 결과]  \n",
    "사과 포도 수박 멜론  \n",
    "사과 포도 수박 멜론 복숭아"
   ]
  },
  {
   "cell_type": "code",
   "execution_count": 31,
   "metadata": {},
   "outputs": [],
   "source": [
    "def add_fruit(str1, str2):\n",
    "    res = str1 + \" \" + str2\n",
    "    return res"
   ]
  },
  {
   "cell_type": "code",
   "execution_count": 32,
   "metadata": {},
   "outputs": [
    {
     "name": "stdout",
     "output_type": "stream",
     "text": [
      "사과 포도 수박 멜론\n",
      "사과 포도 수박 멜론 복숭아\n"
     ]
    }
   ],
   "source": [
    "fruits = '사과 포도 수박'\n",
    "fruits = add_fruit(fruits, '멜론')\n",
    "print(fruits)\n",
    "\n",
    "fruits = add_fruit(fruits, '복숭아')\n",
    "print(fruits)"
   ]
  },
  {
   "cell_type": "code",
   "execution_count": null,
   "metadata": {},
   "outputs": [],
   "source": []
  }
 ],
 "metadata": {
  "kernelspec": {
   "display_name": "Python 3",
   "language": "python",
   "name": "python3"
  },
  "language_info": {
   "codemirror_mode": {
    "name": "ipython",
    "version": 3
   },
   "file_extension": ".py",
   "mimetype": "text/x-python",
   "name": "python",
   "nbconvert_exporter": "python",
   "pygments_lexer": "ipython3",
   "version": "3.6.5"
  }
 },
 "nbformat": 4,
 "nbformat_minor": 2
}
