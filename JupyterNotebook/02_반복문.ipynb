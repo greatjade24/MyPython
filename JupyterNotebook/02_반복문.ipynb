{
 "cells": [
  {
   "cell_type": "markdown",
   "metadata": {},
   "source": [
    "### 문제1"
   ]
  },
  {
   "cell_type": "markdown",
   "metadata": {},
   "source": [
    "2부터 100 사이의 모든 짝수를 출력하는 반복문을 작성한다.\n",
    "\n",
    "[실행 결과]  \n",
    "2 4 6 8 10 12 14 16 18 20 22 24 26 28 30 32 34 36 38 40 42 44 46 48 50 52 54 56 58 60 62 64 66 68 70 72 74 76 78 80 82 84 86 88 90 92 94 96 98 100"
   ]
  },
  {
   "cell_type": "code",
   "execution_count": null,
   "metadata": {},
   "outputs": [],
   "source": [
    "for i in range(2, 101, 2):\n",
    "    print(i, end=\" \")"
   ]
  },
  {
   "cell_type": "markdown",
   "metadata": {},
   "source": [
    "### 문제2"
   ]
  },
  {
   "cell_type": "markdown",
   "metadata": {},
   "source": [
    "어떤 사람이 복리이자율 7%로 1000만원을 저금했을 경우에 2000만원이 되는데 몇 년이 걸리는지 계산하기 위하여 다음과 코드를 작성하였다. 잘못된 점은 없는지 체크해보자. \n",
    "```python\n",
    "year = 0\n",
    "balance = 1000\n",
    "while balance >= 2000 :\n",
    "    year = year + 1\n",
    "    interest = balance * 0.07\n",
    "    balance = balance + interest\n",
    "```"
   ]
  },
  {
   "cell_type": "markdown",
   "metadata": {},
   "source": [
    "year = 0\n",
    "balance = 1000\n",
    "while balance >= 2000: <--- 부등호의 방향이 잘못되었다. 이 코드에서 while문은 실행되지 않는다.\n",
    "    year = year + 1\n",
    "    interest = balance * 0.07\n",
    "    balance = balance + interest\n",
    "\n"
   ]
  },
  {
   "cell_type": "markdown",
   "metadata": {},
   "source": [
    "### 문제3"
   ]
  },
  {
   "cell_type": "markdown",
   "metadata": {},
   "source": [
    "다음과 같은 소스 코드는 몇 번이나 반복하는가?\n",
    "\n",
    "```python\n",
    "count = 0\n",
    "while count <= 10:\n",
    "\tprint(\"Hi !\")\n",
    "\tcount = count + 1\n",
    "```"
   ]
  },
  {
   "cell_type": "markdown",
   "metadata": {},
   "source": [
    "11번"
   ]
  },
  {
   "cell_type": "markdown",
   "metadata": {},
   "source": [
    "### 문제4"
   ]
  },
  {
   "cell_type": "markdown",
   "metadata": {},
   "source": [
    "다음과 같은 소스 코드는 몇 번이나 출력이 반복하는가?\n",
    "\n",
    "```python\n",
    "i = 1\n",
    "while i < 10:\n",
    "\tif i%2 == 0:\n",
    "\t\tprint(i)\n",
    "\ti = i + 1\n",
    "```"
   ]
  },
  {
   "cell_type": "markdown",
   "metadata": {},
   "source": [
    "4번"
   ]
  },
  {
   "cell_type": "markdown",
   "metadata": {},
   "source": [
    "### 문제5"
   ]
  },
  {
   "cell_type": "markdown",
   "metadata": {},
   "source": [
    "다음 코드의 출력을 예상해보자. 각 단계에서 변수의 값을 예상해보시오.\n",
    "\n",
    "```python\n",
    "n = 1349\n",
    "sum = 0\n",
    "while n > 0 :\n",
    "\tdigit = n % 10\n",
    "\tsum = sum + digit\n",
    "\tn = n // 10\n",
    "\n",
    "print(sum)\n",
    "```"
   ]
  },
  {
   "cell_type": "markdown",
   "metadata": {},
   "source": [
    "(1) digit = 9\n",
    "    sum = 9\n",
    "    n = 134\n",
    "\n",
    "(2) digit = 4\n",
    "    sum = 13\n",
    "    n = 13\n",
    "    \n",
    "(3) digit = 3\n",
    "    sum = 16\n",
    "    n = 1\n",
    "    \n",
    "(4) digit = 1\n",
    "    sum = 17\n",
    "    n = 0"
   ]
  },
  {
   "cell_type": "markdown",
   "metadata": {},
   "source": [
    "### 문제6"
   ]
  },
  {
   "cell_type": "markdown",
   "metadata": {},
   "source": [
    "사용자에게 덧셈 퀴즈를 내고 답을 사용자로부터 받는 프로그램에서 사용자가 올바른 답을 입력할 때까지 반복하도록 수정하여 보자. \n",
    "\n",
    "[실행 결과]    \n",
    "87 + 36의 값은? 11  \n",
    "틀렸습니다.  \n",
    "87 + 36의 값은? 22  \n",
    "틀렸습니다.  \n",
    "87 + 36의 값은? 111  \n",
    "틀렸습니다.  \n",
    "87 + 36의 값은? 123  \n",
    "맞았습니다. \n"
   ]
  },
  {
   "cell_type": "code",
   "execution_count": null,
   "metadata": {},
   "outputs": [],
   "source": [
    "import random\n",
    "x = random.randint(0, 100)   #1에서 100사이의 난수 발생\n",
    "y = random.randint(0, 100)\n",
    "\n",
    "while True:\n",
    "    print(x, \" + \", y, \"의 값은?\", sep=\"\")\n",
    "    ans = int(input())\n",
    "\n",
    "    if ans == x + y:\n",
    "        print('맞았습니다')\n",
    "        break\n",
    "    else:\n",
    "        print('틀렸습니다')"
   ]
  },
  {
   "cell_type": "markdown",
   "metadata": {},
   "source": [
    "### 문제7"
   ]
  },
  {
   "cell_type": "markdown",
   "metadata": {},
   "source": [
    "사용자가 입력한 정수의 합을 계산하는 프로그램을 작성하자. 사용자가 0을 입력하기 전까지 정수를 계속하여 읽도록 한다. \n",
    "\n",
    "[실행 결과]  \n",
    "정수를 입력하시오:1  \n",
    "정수를 입력하시오:2  \n",
    "정수를 입력하시오:3  \n",
    "정수를 입력하시오:0  \n",
    "합은 6 입니다   "
   ]
  },
  {
   "cell_type": "code",
   "execution_count": null,
   "metadata": {},
   "outputs": [],
   "source": [
    "sum = 0\n",
    "i = 0\n",
    "\n",
    "while True:\n",
    "    num = int(input('정수를 입력하시오 : '))\n",
    "    if num == 0:\n",
    "        break\n",
    "    sum += num\n",
    "    \n",
    "print('합은 ', sum, '입니다', sep=\"\")"
   ]
  },
  {
   "cell_type": "markdown",
   "metadata": {},
   "source": [
    "### 문제8"
   ]
  },
  {
   "cell_type": "markdown",
   "metadata": {},
   "source": [
    "다음의 for문을 while문으로 변환하라.   \n",
    "```python\n",
    "sum = 0\n",
    "for i in range(100):\n",
    "    sum = sum + i\n",
    "\n",
    "```"
   ]
  },
  {
   "cell_type": "code",
   "execution_count": null,
   "metadata": {},
   "outputs": [],
   "source": [
    "i = 0\n",
    "sum = 0\n",
    "while i < 100:\n",
    "    sum += i\n",
    "    i += 1\n",
    "\n",
    "print(sum)"
   ]
  },
  {
   "cell_type": "markdown",
   "metadata": {},
   "source": [
    "### 문제9"
   ]
  },
  {
   "cell_type": "markdown",
   "metadata": {},
   "source": [
    "다음의 while문을 for문으로 변환하라.\n",
    "\n",
    "```python\n",
    "sum = 0\n",
    "i = 0\n",
    "while sum < 100000:\n",
    "    sum = sum + i\n",
    "    i = i + 1\n",
    "\n",
    "```"
   ]
  },
  {
   "cell_type": "code",
   "execution_count": null,
   "metadata": {},
   "outputs": [],
   "source": [
    "sum = 0\n",
    "for i in range(1000000):\n",
    "    sum += i\n",
    "    if(sum >= 100000):\n",
    "        break\n",
    "        \n",
    "print(sum)"
   ]
  },
  {
   "cell_type": "markdown",
   "metadata": {},
   "source": [
    "### 문제10"
   ]
  },
  {
   "cell_type": "markdown",
   "metadata": {},
   "source": [
    "구구단표를 출력하는 프로그램을 작성하라. 형식은 정확히 일치하지 않아도 된다.\n",
    "\n",
    "[실행 결과]  \n",
    "1 2 3 4 5 6 7 8 9   \n",
    "2 4 6 8 10 12 14 16 18   \n",
    "3 6 9 12 15 18 21 24 27   \n",
    "4 8 12 16 20 24 28 32 36   \n",
    "5 10 15 20 25 30 35 40 45   \n",
    "6 12 18 24 30 36 42 48 54   \n",
    "7 14 21 28 35 42 49 56 63   \n",
    "8 16 24 32 40 48 56 64 72   \n",
    "9 18 27 36 45 54 63 72 81  "
   ]
  },
  {
   "cell_type": "code",
   "execution_count": null,
   "metadata": {},
   "outputs": [],
   "source": [
    "for i in range(1, 10):\n",
    "    for j in range(1, 10):\n",
    "        print(i*j, end=\" \")\n",
    "    print()"
   ]
  },
  {
   "cell_type": "markdown",
   "metadata": {},
   "source": [
    "### 문제11"
   ]
  },
  {
   "cell_type": "markdown",
   "metadata": {},
   "source": [
    "최대 공약수를 찾는 프로그램을 작성하여 보자. 많은 알고리즘이 있지만 우리는 반복을 이용한 알고리즘을 사용해보자. 사용자로부터 받은 두수가 x, y라고 하자. 우리는 변수 i가 1부터 시작하여서 x와 y보다 작을 때까지 반복한다. 한번 반복할 때마다 x와 y를 i로 나누어본다. x와 y가 나누어떨어지면 i를 최대 공약수라고 생각한다. \n",
    "\n",
    "[실행 결과]  \n",
    "첫번째 정수: 36  \n",
    "첫번째 정수: 12  \n",
    "12"
   ]
  },
  {
   "cell_type": "code",
   "execution_count": null,
   "metadata": {},
   "outputs": [],
   "source": [
    "x = int(input('첫 번째 정수 : '))\n",
    "y = int(input('두 번째 정수 : '))\n",
    "\n",
    "i = 1\n",
    "while i <= x and i <= y:\n",
    "    if x % i == 0 and y % i == 0:\n",
    "        res = i\n",
    "    i += 1\n",
    "\n",
    "print(res)"
   ]
  },
  {
   "cell_type": "markdown",
   "metadata": {},
   "source": [
    "### 문제12"
   ]
  },
  {
   "cell_type": "markdown",
   "metadata": {},
   "source": [
    "자신이 현재 은행에 1000만원을 저금하고 있다고 가정하자. 현재의 은행 이율은 복리 7%이다. 은행에 저금한 돈이 두 배가 되려면 몇 년이 걸릴까?\n"
   ]
  },
  {
   "cell_type": "code",
   "execution_count": null,
   "metadata": {},
   "outputs": [],
   "source": [
    "year = 0\n",
    "balance = 1000\n",
    "while balance < 2000:\n",
    "    year = year + 1\n",
    "    interest = balance * 0.07\n",
    "    balance = balance + interest\n",
    "    \n",
    "print(year)"
   ]
  },
  {
   "cell_type": "markdown",
   "metadata": {},
   "source": [
    "### 문제13"
   ]
  },
  {
   "cell_type": "markdown",
   "metadata": {},
   "source": [
    "다음 수열의 합을 계산하는 프로그램을 작성하시오.  \n",
    "  \n",
    "1/3 + 3/5 + 5/7 + ... 99/101\n"
   ]
  },
  {
   "cell_type": "code",
   "execution_count": null,
   "metadata": {},
   "outputs": [],
   "source": [
    "sum = 0\n",
    "j = 3\n",
    "for i in range(1, 100, 2):\n",
    "    sum += i / j\n",
    "    j += 2\n",
    "        \n",
    "print(sum)"
   ]
  },
  {
   "cell_type": "markdown",
   "metadata": {},
   "source": [
    "### 문제14"
   ]
  },
  {
   "cell_type": "markdown",
   "metadata": {},
   "source": [
    "다음과 같이 1부터 10까지 1제곱값, 2제곱값, 3제곱값, 4제곱값을 출력하는 프로그램을 작성해보자. \n",
    "\n",
    "[실행 결과]  \n",
    "1   1\t1\t1\t  \n",
    "2\t4\t8\t16\t  \n",
    "3\t9\t27\t81\t  \n",
    "4\t16\t64\t256\t  \n",
    "5\t25\t125\t625\t  \n",
    "6\t36\t216\t1296\t  \n",
    "7\t49\t343\t2401\t  \n",
    "8\t64\t512\t4096\t  \n",
    "9\t81\t729\t6561\t  \n",
    "10\t100\t1000\t10000  "
   ]
  },
  {
   "cell_type": "code",
   "execution_count": null,
   "metadata": {},
   "outputs": [],
   "source": [
    "for i in range(1, 11):\n",
    "    print(i, i ** 2, i ** 3, i ** 4)"
   ]
  },
  {
   "cell_type": "markdown",
   "metadata": {},
   "source": [
    "### 문제15"
   ]
  },
  {
   "cell_type": "markdown",
   "metadata": {},
   "source": [
    "난수 생성 함수를 사용하여서 2개의 주사위를 10번 던졌을 때 나오는 수를 다음과 같이 출력하여 보자.   \n",
    "(from random import randint)  \n",
    "\n",
    "[실행 결과]\n",
    "첫번째 주사위= 4 두번째 주사위= 3  \n",
    "첫번째 주사위= 1 두번째 주사위= 4  \n",
    "첫번째 주사위= 2 두번째 주사위= 3  \n",
    "첫번째 주사위= 6 두번째 주사위= 3  \n",
    "첫번째 주사위= 5 두번째 주사위= 6  \n",
    "첫번째 주사위= 5 두번째 주사위= 2  \n",
    "첫번째 주사위= 5 두번째 주사위= 3  \n",
    "첫번째 주사위= 6 두번째 주사위= 2  \n",
    "첫번째 주사위= 3 두번째 주사위= 4  \n",
    "첫번째 주사위= 4 두번째 주사위= 3  "
   ]
  },
  {
   "cell_type": "code",
   "execution_count": 5,
   "metadata": {},
   "outputs": [
    {
     "name": "stdout",
     "output_type": "stream",
     "text": [
      "첫번째 주사위= 4 두번째 주사위= 1\n",
      "첫번째 주사위= 2 두번째 주사위= 2\n",
      "첫번째 주사위= 4 두번째 주사위= 6\n",
      "첫번째 주사위= 5 두번째 주사위= 4\n",
      "첫번째 주사위= 3 두번째 주사위= 1\n",
      "첫번째 주사위= 5 두번째 주사위= 5\n",
      "첫번째 주사위= 2 두번째 주사위= 1\n",
      "첫번째 주사위= 6 두번째 주사위= 3\n",
      "첫번째 주사위= 5 두번째 주사위= 6\n",
      "첫번째 주사위= 1 두번째 주사위= 2\n"
     ]
    }
   ],
   "source": [
    "import random\n",
    "\n",
    "for i in range (0, 10):\n",
    "    x = random.randint(1, 6)\n",
    "    y = random.randint(1, 6)\n",
    "    print('첫번째 주사위=', x, '두번째 주사위=', y)"
   ]
  },
  {
   "cell_type": "code",
   "execution_count": null,
   "metadata": {},
   "outputs": [],
   "source": []
  }
 ],
 "metadata": {
  "kernelspec": {
   "display_name": "Python 3",
   "language": "python",
   "name": "python3"
  }
 },
 "nbformat": 4,
 "nbformat_minor": 2
}
