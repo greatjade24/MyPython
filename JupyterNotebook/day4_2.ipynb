{
 "cells": [
  {
   "cell_type": "code",
   "execution_count": 21,
   "metadata": {},
   "outputs": [],
   "source": [
    "class Person:\n",
    "    def __init__(self, name, age):\n",
    "        self.name = name\n",
    "        self.age = age\n",
    "\n",
    "class Student(Person):\n",
    "    def __init__(self, name, age, major):\n",
    "        super().__init__(name, age)\n",
    "        self.major = major\n",
    "\n",
    "class Professor(Person):\n",
    "    def __init__(self, name, age, subject):\n",
    "        super().__init__(name, age)\n",
    "        self.subject = subject\n",
    "\n",
    "class Employee(Person):\n",
    "    def __init__(self, name, age, dept):\n",
    "        super().__init__(name, age)\n",
    "        self.dept = dept"
   ]
  },
  {
   "cell_type": "code",
   "execution_count": 27,
   "metadata": {},
   "outputs": [],
   "source": [
    "s = Student('홍길동', '21', '컴공')\n",
    "p = Professor('이순신', '53', '파이썬')\n",
    "e = Employee('유관순', '45', '행정실')"
   ]
  },
  {
   "cell_type": "code",
   "execution_count": 23,
   "metadata": {},
   "outputs": [
    {
     "data": {
      "text/plain": [
       "'45'"
      ]
     },
     "execution_count": 23,
     "metadata": {},
     "output_type": "execute_result"
    }
   ],
   "source": [
    "e.age"
   ]
  },
  {
   "cell_type": "code",
   "execution_count": 33,
   "metadata": {},
   "outputs": [],
   "source": [
    "class Person:\n",
    "    def __init__(self, name, age):\n",
    "        self.name = name\n",
    "        self.age = age\n",
    "    \n",
    "    def get_info(self):\n",
    "        print(self.name, self.age, end=' ')\n",
    "\n",
    "class Student(Person):\n",
    "    def __init__(self, name, age, major):\n",
    "        super().__init__(name, age)\n",
    "        self.major = major\n",
    "        \n",
    "    def get_info(self):\n",
    "        super().get_info()\n",
    "        print(self.major)\n",
    "\n",
    "class Professor(Person):\n",
    "    def __init__(self, name, age, subject):\n",
    "        super().__init__(name, age)\n",
    "        self.subject = subject\n",
    "        \n",
    "    def get_info(self):\n",
    "        super().get_info()\n",
    "        print(self.subject)\n",
    "\n",
    "class Employee(Person):\n",
    "    def __init__(self, name, age, dept):\n",
    "        super().__init__(name, age)\n",
    "        self.dept = dept\n",
    "        \n",
    "    def get_info(self):\n",
    "        super().get_info()\n",
    "        print(self.dept)"
   ]
  },
  {
   "cell_type": "code",
   "execution_count": 34,
   "metadata": {},
   "outputs": [],
   "source": [
    "s = Student('홍길동', '21', '컴공')\n",
    "p = Professor('이순신', '53', '파이썬')\n",
    "e = Employee('유관순', '45', '행정실')"
   ]
  },
  {
   "cell_type": "code",
   "execution_count": 36,
   "metadata": {},
   "outputs": [
    {
     "name": "stdout",
     "output_type": "stream",
     "text": [
      "유관순 45 행정실\n"
     ]
    }
   ],
   "source": [
    "e.get_info()"
   ]
  },
  {
   "cell_type": "code",
   "execution_count": 68,
   "metadata": {},
   "outputs": [],
   "source": [
    "class Tiger:\n",
    "    def eat(self):\n",
    "        print('먹는다')\n",
    "        \n",
    "    def cry(self):\n",
    "        print('어흥')\n",
    "        \n",
    "class Lion:\n",
    "    def sleep(self):\n",
    "        print('잠을 잔다')\n",
    "        \n",
    "    def cry(self):\n",
    "        print('으르렁')\n",
    "        \n",
    "class Liger(Tiger, Lion):\n",
    "    def walk(self):\n",
    "        print('걷는다')\n",
    "    "
   ]
  },
  {
   "cell_type": "code",
   "execution_count": 69,
   "metadata": {},
   "outputs": [],
   "source": [
    "ani = Liger()"
   ]
  },
  {
   "cell_type": "code",
   "execution_count": 70,
   "metadata": {},
   "outputs": [
    {
     "name": "stdout",
     "output_type": "stream",
     "text": [
      "어흥\n"
     ]
    }
   ],
   "source": [
    "ani.cry()"
   ]
  },
  {
   "cell_type": "code",
   "execution_count": 71,
   "metadata": {},
   "outputs": [
    {
     "data": {
      "text/plain": [
       "[__main__.Liger, __main__.Tiger, __main__.Lion, object]"
      ]
     },
     "execution_count": 71,
     "metadata": {},
     "output_type": "execute_result"
    }
   ],
   "source": [
    "Liger.mro()"
   ]
  },
  {
   "cell_type": "code",
   "execution_count": null,
   "metadata": {},
   "outputs": [],
   "source": []
  }
 ],
 "metadata": {
  "kernelspec": {
   "display_name": "Python 3",
   "language": "python",
   "name": "python3"
  },
  "language_info": {
   "codemirror_mode": {
    "name": "ipython",
    "version": 3
   },
   "file_extension": ".py",
   "mimetype": "text/x-python",
   "name": "python",
   "nbconvert_exporter": "python",
   "pygments_lexer": "ipython3",
   "version": "3.6.5"
  }
 },
 "nbformat": 4,
 "nbformat_minor": 2
}
