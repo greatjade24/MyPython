{
 "cells": [
  {
   "cell_type": "markdown",
   "metadata": {},
   "source": [
    "### 문제1"
   ]
  },
  {
   "cell_type": "markdown",
   "metadata": {},
   "source": [
    "주어진 [실행 명령문]을 실행했을 때 [실행 결과]와 같이 출력되도록 조건에 따라 클래스를 선언하시오   \n",
    "  \n",
    "클래스 이름 :  Circle    \n",
    "함수:   \n",
    " \\__init\\__ : radius 인자값을 받아 인스턴스 변수 \\__radius에 할당한다. 기본값은 1.0 으로 지정한다.  \n",
    "setRadius : radius 인자값을 받아 \\__radius 변수에 할당한다.  \n",
    "getRadius : 변수 \\__radius 값을 반환한다.  \n",
    "calcArea : 원의 면적을 구한 후 반환한다. (수식: 3.141592653589793 \\* 반지름 \\* 반지름)  \n",
    "calcCircum : 원의 둘레를 구한 후 반환한다.(수식: 3.141592653589793 \\* 2.0 \\* 반지름)  \n",
    "  \n",
    "\n",
    "[실행 명령문]  \n",
    "```python\n",
    "c1 = Circle(10)\n",
    "print(\"원의 반지름=\", c1.getRadius())\n",
    "print(\"원의 넓이=\", c1.calcArea())\n",
    "print(\"원의 둘레=\", c1.calcCircum()) \n",
    "```\n",
    "\n",
    "[실행 결과]  \n",
    "원의 반지름= 10  \n",
    "원의 넓이= 314.1592653589793  \n",
    "원의 둘레= 62.83185307179586  \n"
   ]
  },
  {
   "cell_type": "code",
   "execution_count": 10,
   "metadata": {},
   "outputs": [],
   "source": [
    "class Circle:\n",
    "    def __init__(self, radius = 1.0):\n",
    "        self.__radius = radius\n",
    "        \n",
    "    def setRadius(self, radius):\n",
    "        self.__radius = radius\n",
    "    \n",
    "    def getRadius(self):\n",
    "        return self.__radius\n",
    "    \n",
    "    def calcArea(self):\n",
    "        return self.__radius ** 2 * 3.141592653589793\n",
    "    \n",
    "    def calcCircum(self):\n",
    "        return self.__radius * 2.0 * 3.141592653589793"
   ]
  },
  {
   "cell_type": "code",
   "execution_count": 12,
   "metadata": {},
   "outputs": [
    {
     "name": "stdout",
     "output_type": "stream",
     "text": [
      "원의 반지름= 100\n",
      "원의 넓이= 31415.926535897932\n",
      "원의 둘레= 628.3185307179587\n"
     ]
    }
   ],
   "source": [
    "c1.setRadius(100)\n",
    "print(\"원의 반지름=\", c1.getRadius())\n",
    "print(\"원의 넓이=\", c1.calcArea())\n",
    "print(\"원의 둘레=\", c1.calcCircum()) "
   ]
  },
  {
   "cell_type": "markdown",
   "metadata": {},
   "source": [
    "### 문제2"
   ]
  },
  {
   "cell_type": "markdown",
   "metadata": {},
   "source": [
    "주어진 [실행 명령문]을 실행했을 때 [실행 결과]와 같이 출력되도록 조건에 따라 클래스를 선언하시오   \n",
    "\n",
    "클래스 이름 : BankAccount  \n",
    "인스턴스 변수 :   \n",
    "1.\tno : 계좌번호, 외부에서 접근할 수 없음  \n",
    "2.\tbalance : 잔액, 외부에서 접근할 수 없음  \n",
    "\n",
    "함수:  \n",
    "\\__init\\__ ():  계좌번호를 인자로 받아 no 변수에 초기화, balance를 0으로 초기화한다.  \n",
    "withdraw() : 출금할 금액을 인자로 받아 잔액에서 차감한다. “ xxx원이 출금되었습니다” 을 출력한다.  \n",
    "deposit(): \t입금할 금액을 인자로 받아 잔액에 더한다. “ xxx원이 입금되었습니다” 을 출력한다.  \n",
    "get_balance(): \t잔액을 반환한다.  \n",
    "\n",
    "[실행 명령문]  \n",
    "```python\n",
    "a = BankAccount('123456')\n",
    "a.deposit(50000)\n",
    "a.withdraw(10000)\n",
    "\n",
    "b = BankAccount('789456')\n",
    "b.deposit(100000)\n",
    "b.withdraw(50000)\n",
    "\n",
    "print(a.get_balance())\n",
    "print(b.get_balance())\n",
    "```\n",
    "\n",
    "[실행 결과]  \n",
    "  \n",
    "123456 계좌가 개설되었습니다  \n",
    "50000 원이 입금되었습니다  \n",
    "10000 원이 출금되었습니다  \n",
    "  \n",
    "789456 계좌가 개설되었습니다  \n",
    "100000 원이 입금되었습니다  \n",
    "50000 원이 출금되었습니다  \n",
    "  \n",
    "40000  \n",
    "50000  "
   ]
  },
  {
   "cell_type": "code",
   "execution_count": 21,
   "metadata": {},
   "outputs": [],
   "source": [
    "class BankAccount:\n",
    "    def __init__(self, no):\n",
    "        self.__no = no\n",
    "        self.__balance = 0\n",
    "        print(self.__no, '계좌가 개설되었습니다.', sep='')\n",
    "        \n",
    "    def withdraw(self, money):\n",
    "        self.__balance -= money\n",
    "        print(money, '원이 출금되었습니다.', sep='')\n",
    "        print()\n",
    "        \n",
    "    def deposit(self, money):\n",
    "        self.__balance += money\n",
    "        print(money, '원이 입급되었습니다.', sep='')\n",
    "        \n",
    "    def get_balance(self):\n",
    "        return self.__balance"
   ]
  },
  {
   "cell_type": "code",
   "execution_count": 22,
   "metadata": {},
   "outputs": [
    {
     "name": "stdout",
     "output_type": "stream",
     "text": [
      "123456계좌가 개설되었습니다.\n",
      "50000원이 입급되었습니다.\n",
      "10000원이 출금되었습니다.\n",
      "\n",
      "789456계좌가 개설되었습니다.\n",
      "100000원이 입급되었습니다.\n",
      "50000원이 출금되었습니다.\n",
      "\n",
      "40000\n",
      "50000\n"
     ]
    }
   ],
   "source": [
    "a = BankAccount('123456')\n",
    "a.deposit(50000)\n",
    "a.withdraw(10000)\n",
    "\n",
    "b = BankAccount('789456')\n",
    "b.deposit(100000)\n",
    "b.withdraw(50000)\n",
    "\n",
    "print(a.get_balance())\n",
    "print(b.get_balance())"
   ]
  },
  {
   "cell_type": "markdown",
   "metadata": {},
   "source": [
    "### 문제3"
   ]
  },
  {
   "cell_type": "markdown",
   "metadata": {},
   "source": [
    "주어진 [실행 명령문]을 실행했을 때 [실행 결과]와 같이 출력되도록 조건에 따라 클래스를 선언하시오  \n",
    "  \n",
    "클래스 이름 : Cat  \n",
    "인스턴스 변수 :   \n",
    "1.\tname: 이름, 외부에서 접근할 수 없음\n",
    "2.\tage: 나이, 외부에서 접근할 수 없음 \n",
    "  \n",
    "함수:    \n",
    "\\__init__ : name, age  인자를 받아 초기화 한다.    \n",
    "setName : 변수 name의 값을 수정한다.  \n",
    "getName : 변수 name 값을 리턴한다.  \n",
    "setAge : 변수 age의 값을 수정한다.  \n",
    "getAge : 변수 age의 값을 리턴한다.   \n",
    "\n",
    "[실행 명령문]  \n",
    "```python\n",
    "missy = Cat('Missy', 3)\n",
    "lucky = Cat('Lucky', 5)\n",
    "print(missy.getName(), missy.getAge())\n",
    "print(lucky.getName(), lucky.getAge())\n",
    "```\n",
    "\n",
    "[실행 결과]  \n",
    "Missy 3  \n",
    "Lucky 5  "
   ]
  },
  {
   "cell_type": "code",
   "execution_count": 23,
   "metadata": {},
   "outputs": [],
   "source": [
    "class Cat:\n",
    "    def __init__(self, name, age):\n",
    "        self.__name = name\n",
    "        self.__age = age\n",
    "        \n",
    "    def setName(self, name):\n",
    "        self.__name = name\n",
    "        \n",
    "    def getName(self):\n",
    "        return self.__name\n",
    "    \n",
    "    def setAge(self, age):\n",
    "        self.__age = age\n",
    "    \n",
    "    def getAge(self):\n",
    "        return self.__age"
   ]
  },
  {
   "cell_type": "code",
   "execution_count": 24,
   "metadata": {},
   "outputs": [
    {
     "name": "stdout",
     "output_type": "stream",
     "text": [
      "Missy 3\n",
      "Lucky 5\n"
     ]
    }
   ],
   "source": [
    "missy = Cat('Missy', 3)\n",
    "lucky = Cat('Lucky', 5)\n",
    "print(missy.getName(), missy.getAge())\n",
    "print(lucky.getName(), lucky.getAge())"
   ]
  },
  {
   "cell_type": "markdown",
   "metadata": {},
   "source": [
    "### 문제4"
   ]
  },
  {
   "attachments": {
    "image.png": {
     "image/png": "[encoded data removed]"
    }
   },
   "cell_type": "markdown",
   "metadata": {},
   "source": [
    "다음 클래스간의 구조도를 보고 조건에 맞게 클래스를 선언하시오  \n",
    "\n",
    "![image.png](attachment:image.png)\n",
    "\n",
    "1.\tAnimal 클래스\n",
    "    *\t모든 동물의 다리 수를 저장할  legs 와 이름을 저장할 name 인스턴스 변수를 가진다.\n",
    "    *\t생성자에서 legs 변수와 name 변수를 초기화 한다. name 변수는 빈문자(\"\")를 기본값으로 지정한다.\n",
    "    *\teat() 메소드는 “eat”를 출력한다.  \n",
    "    *\twalk() 메소드에서는 동물들의 걷는 방법에 대해 출력해준다. 출력 내용은 다음과 같이 한다.  \n",
    "    `print(\"This animal walks on\", self.legs, \"legs.\")`  \n",
    "  \n",
    "1.\tSpider 클래스\n",
    "    *\tSpider class 는 Animal class를 상속한다.  \n",
    "    *\tspider의 8개의 다리 수는 super class의 생성자를 호출하여 정의한다.  \n",
    "    *\teat() 메소드를 오버라이딩하여 다음과 같은 내용을 출력해준다.  \n",
    "    `\"Spiders catch flies in their webs to eat.\"`  \n",
    "  \n",
    "1.\tCat 클래스  \n",
    "    * 생성자에서 name 매개 변수를 선언하고 매개 변수의 기본값을 \"\"으로 지정한다.\n",
    "    * 생성자에서 legs는 4, name은 Cat 생성자로 전달된 값을 인자로 지정하여 상위 객체의 생성자를 호출한다.\n",
    "    * play() 메소드는 `Cat의 이름과 \" likes to play with string.\"` 을 출력하도록 오버라이딩한다.  \n",
    "    * eat() 메소드는 `\"Cats like to eat spiders and mice.\"` 을 출력하도록 오버라이딩한다.\n",
    "  \n",
    "1.\tFish 클래스  \n",
    "    * 생성자에서 legs는 0, name은 Fish 생성자로 전달된 값을 인자로 지정하여 상위 객체의 생성자를 호출한다.\n",
    "    * walk() 메소드를 `\"Fish, of course, can't walk; they swim.\"` 를 출력하도록 오버라이딩한다.\n",
    "    * eat() 메소드를 `\"Fish eat pond scum.\"`을 출력하도록 오버라이딩한다.\n",
    "    * play() 메소드는 `\"Fish swim in their tanks all day.\"` 을 출력하도록 오버라이딩한다.  \n",
    "\n",
    "\n",
    "[실행 명령문]  \n",
    "\n",
    "```python\n",
    "f = Fish()\n",
    "c = Cat(\"Fluffy\")\n",
    "a = Fish()\n",
    "e = Spider()\n",
    "p = Cat()\n",
    "\n",
    "f.play()\n",
    "c.play()\n",
    "\n",
    "e.eat()\n",
    "e.walk()\n",
    "\n",
    "a.walk()\n",
    "```\n",
    "\n",
    "[실행 결과]  \n",
    "Fish swim in their tanks all day.  \n",
    "Fluffy  likes to play with string.   \n",
    "Spiders catch flies in their webs to eat.  \n",
    "This animal walks on 8 legs.  \n",
    "Fish, of course, can't walk; they swim.  \n"
   ]
  },
  {
   "cell_type": "code",
   "execution_count": 121,
   "metadata": {},
   "outputs": [],
   "source": [
    "class Animal:\n",
    "    def __init__(self, legs, name = \"\"):\n",
    "        self.legs = legs\n",
    "        self.name = name\n",
    "        \n",
    "    def eat(self):\n",
    "        print('eat')\n",
    "        \n",
    "    def walk(self):\n",
    "        print('This animal walks on', self.legs, 'legs')\n",
    "        \n",
    "class Spider(Animal):\n",
    "    def __init__(self):\n",
    "        super().__init__(8)\n",
    "        \n",
    "    def eat(self):\n",
    "        print('Spiders catch flies in their webs to eat.')\n",
    "        \n",
    "class Cat(Animal):\n",
    "    def __init__(self, name=''):\n",
    "        super().__init__(4, name)\n",
    "        \n",
    "    def play(self):\n",
    "        print(self.name, 'likes to play with string.')\n",
    "        \n",
    "    def eat(self):\n",
    "        print('Cats like to eat spiders and mice.')\n",
    "        \n",
    "class Fish(Animal):\n",
    "    def __init__(self, name=''):\n",
    "        super().__init__(0, name)\n",
    "        \n",
    "    def walk(self):\n",
    "        print(\"Fish, of course, can't walk; they swim.\")\n",
    "              \n",
    "    def eat(self):\n",
    "        print('Fish eat pond scum.')\n",
    "        \n",
    "    def play(self):\n",
    "        print('Fish swim in their tanks all day.')\n",
    "        \n",
    "        \n",
    "        "
   ]
  },
  {
   "cell_type": "code",
   "execution_count": 122,
   "metadata": {},
   "outputs": [
    {
     "name": "stdout",
     "output_type": "stream",
     "text": [
      "Fish swim in their tanks all day.\n",
      "Fluffy likes to play with string.\n",
      "Spiders catch flies in their webs to eat.\n",
      "This animal walks on 8 legs\n",
      "Fish, of course, can't walk; they swim.\n"
     ]
    }
   ],
   "source": [
    "f = Fish()\n",
    "c = Cat(\"Fluffy\")\n",
    "a = Fish()\n",
    "e = Spider()\n",
    "p = Cat()\n",
    "\n",
    "f.play()\n",
    "c.play()\n",
    "\n",
    "e.eat()\n",
    "e.walk()\n",
    "\n",
    "a.walk()"
   ]
  },
  {
   "cell_type": "markdown",
   "metadata": {},
   "source": [
    "### 문제5"
   ]
  },
  {
   "cell_type": "markdown",
   "metadata": {},
   "source": [
    "아래 조건을 만족하는 CellPhone 클래스를 선언하시오.  \n",
    "\n",
    "* model : 핸드폰 모델 번호\n",
    "* battery : 남은 배터리 양\n",
    "* CellPhone(model) : 모델 번호를 인자로 받는 생성자를 선언한다.model은 인자값으로, battery는 0으로 초기화한다.\n",
    "* call(time) : \n",
    "    - 통화 시간(분)을 출력하고, 통화 시간에 따라 배터리 양을 감소시킨다.\n",
    "    - 감소되는 배터리 양 = 통화시간(분) * 0.5\n",
    "    - 배터리 양은 0보다 작아지는 경우는 0으로 설정한다\n",
    "    - 통화 시간(분)이 0보다 작은 경우에는 `\"통화시간입력오류\"`를 출력한다.\n",
    "* charge(time)\n",
    "    - 충전한 시간(분)을 출력하고, 충전한 시간에 따라 배터리 양을 증가시킨다.\n",
    "    - 충전되는 배터리 양 = 충전시간(분) * 3\n",
    "    - 배터리 양은 100까지만 증가한다.\n",
    "    - 충전 시간(분)이 0보다 작은 경우에는 `\"충전시간입력오류\"` 를 출력한다.\n",
    "* printBattery() : 남은 배터리 양을 출력한다.\n",
    "* \\__eq\\__(self, other) : 입력받은 객체가CellPhone 타입의 클래스이면서 모델 번호가 같은 경우에 true를 리턴한다.\n",
    "\n",
    "[실행 명령문]    \n",
    "```python\n",
    "myPhone = CellPhone(\"SCH-600\")\n",
    "\n",
    "myPhone.charge(20)  #20분간 충전을 한다.\n",
    "myPhone.printBattery()\n",
    "\n",
    "myPhone.call(300)  #300분간 통화를 한다.\n",
    "myPhone.printBattery()\n",
    "\n",
    "myPhone.charge(50)  #50분간 충전을 한다.\n",
    "myPhone.printBattery()\n",
    "\n",
    "myPhone.call(40)  #40분간 통화를 한다.\n",
    "myPhone.printBattery()\n",
    "\n",
    "myPhone.call(-20)  #통화시간이 잘못 입력되었다.\n",
    "\n",
    "yourPhone = CellPhone(\"SCH-600\")\n",
    "\n",
    "if myPhone == yourPhone:\n",
    "    print(\"동일 모델입니다.\")\n",
    "else:\n",
    "    print(\"다른 모델입니다.\")\n",
    "```\n",
    "\n",
    "[실행 결과]  \n",
    "충전 시간: 20 분  \n",
    "남은 배터리 : 60  \n",
    "통화 시간: 300 분  \n",
    "남은 배터리 : 60  \n",
    "충전 시간: 50 분  \n",
    "남은 배터리 : 100  \n",
    "통화 시간: 40 분  \n",
    "남은 배터리 : 100  \n",
    "통화시간 입력 오류  \n",
    "동일 모델입니다.  "
   ]
  },
  {
   "cell_type": "code",
   "execution_count": 131,
   "metadata": {},
   "outputs": [],
   "source": [
    "class CellPhone:\n",
    "    def __init__(self, model):\n",
    "        self.model = model\n",
    "        self.battery = 0\n",
    "         \n",
    "    def __eq__(self, other):\n",
    "        if isinstance(other, CellPhone):\n",
    "            if self.model == other.model:\n",
    "                return True\n",
    "        \n",
    "    def call(self, time):\n",
    "        if time < 0 :\n",
    "            print('통화시간입력오류')\n",
    "            return\n",
    "        else:\n",
    "            print('통화 시간 : ', time, '분')\n",
    "        \n",
    "        self.battery -= time * 0.5\n",
    "        if self.battery < 0:\n",
    "            self.battery = 0\n",
    "            \n",
    "    def charge(self, time):\n",
    "        if time < 0 :\n",
    "            print('충전시간입력오류')\n",
    "            return\n",
    "        else: \n",
    "            print('충전 시간 : ', time, '분')\n",
    "        self.battery += time * 3\n",
    "        \n",
    "        if self.battery > 100:\n",
    "            self.battery = 100\n",
    "            \n",
    "    def printBattery(self):\n",
    "        print('남은 배터리 : ', self.battery)\n",
    "   "
   ]
  },
  {
   "cell_type": "code",
   "execution_count": 132,
   "metadata": {},
   "outputs": [
    {
     "name": "stdout",
     "output_type": "stream",
     "text": [
      "충전 시간 :  20 분\n",
      "남은 배터리 :  60\n",
      "통화 시간 :  300 분\n",
      "남은 배터리 :  0\n",
      "충전 시간 :  50 분\n",
      "남은 배터리 :  100\n",
      "통화 시간 :  40 분\n",
      "남은 배터리 :  80.0\n",
      "통화시간입력오류\n",
      "동일 모델입니다.\n"
     ]
    }
   ],
   "source": [
    "myPhone = CellPhone(\"SCH-600\")\n",
    "\n",
    "myPhone.charge(20)  #20분간 충전을 한다.\n",
    "myPhone.printBattery()\n",
    "\n",
    "myPhone.call(300)  #300분간 통화를 한다.\n",
    "myPhone.printBattery()\n",
    "\n",
    "myPhone.charge(50)  #50분간 충전을 한다.\n",
    "myPhone.printBattery()\n",
    "\n",
    "myPhone.call(40)  #40분간 통화를 한다.\n",
    "myPhone.printBattery()\n",
    "\n",
    "myPhone.call(-20)  #통화시간이 잘못 입력되었다.\n",
    "\n",
    "yourPhone = CellPhone(\"SCH-600\")\n",
    "\n",
    "if myPhone == yourPhone:\n",
    "    print(\"동일 모델입니다.\")\n",
    "else:\n",
    "    print(\"다른 모델입니다.\")"
   ]
  },
  {
   "cell_type": "markdown",
   "metadata": {},
   "source": [
    "### 문제6"
   ]
  },
  {
   "cell_type": "markdown",
   "metadata": {},
   "source": [
    "클래스 변수 count와 인스턴스 변수 speed를 가지는 클래스 Car를 [실행 명령문]을 실행하여 실행 결과와 같을수 있도록 선언하시오.  \n",
    "\n",
    "[실행 명령문]  \n",
    "```python\n",
    "car1 = Car()\n",
    "car1.speed = 30\n",
    "print(\"자동차 현재 속도: {}, 생산된 자동차 수: {}\".format(car1.speed, Car.count))\n",
    "\n",
    "car2 = Car()\n",
    "car2.speed = 60\n",
    "print(\"자동차 현재 속도: {}, 생산된 자동차 수: {}\".format(car2.speed, Car.count))\n",
    "```\n",
    "\n",
    "[실행 결과]  \n",
    "자동차 현재 속도: 30, 생산된 자동차 수: 1  \n",
    "자동차 현재 속도: 60, 생산된 자동차 수: 2"
   ]
  },
  {
   "cell_type": "code",
   "execution_count": 90,
   "metadata": {},
   "outputs": [],
   "source": [
    "class Car:\n",
    "    \n",
    "    count = 0\n",
    "    \n",
    "    def __init__(self):\n",
    "        Car.count += 1\n",
    "    \n",
    "    def speed(self, speed):\n",
    "        self.speed = speed"
   ]
  },
  {
   "cell_type": "code",
   "execution_count": 91,
   "metadata": {},
   "outputs": [
    {
     "name": "stdout",
     "output_type": "stream",
     "text": [
      "자동차 현재 속도: 30, 생산된 자동차 수: 1\n",
      "자동차 현재 속도: 60, 생산된 자동차 수: 2\n"
     ]
    }
   ],
   "source": [
    "car1 = Car()\n",
    "car1.speed = 30\n",
    "print(\"자동차 현재 속도: {}, 생산된 자동차 수: {}\".format(car1.speed, Car.count))\n",
    "\n",
    "car2 = Car()\n",
    "car2.speed = 60\n",
    "print(\"자동차 현재 속도: {}, 생산된 자동차 수: {}\".format(car2.speed, Car.count))"
   ]
  },
  {
   "cell_type": "markdown",
   "metadata": {},
   "source": [
    "### 문제7"
   ]
  },
  {
   "cell_type": "markdown",
   "metadata": {},
   "source": [
    "[실행 명령문]을 실행하여 [실행 결과]와 같도록 조건에 따라 클래스를 선언하시오  \n",
    "\n",
    "- 클래스 : Car\n",
    "    - 초기값 0 인 speed 변수를 선언합니다.\n",
    "    - upSpeed(self, value) : value는 speed 값을 증가합니다.\n",
    "    - downSpeed(self, value) : value는 speed 값을 감소합니다.\n",
    "- 클래스 : Sedan\n",
    "    - Car를 상속합니다.\n",
    "    - 초기값 0 인 seatNum 변수를 선언합니다.\n",
    "    - getSeatNum(self) : seatNum 값을 반환합니다.\n",
    "    \n",
    "- 클래스 : Truck\n",
    "    - Car를 상속합니다.\n",
    "    - 초기값 0 인 capacity 변수를 선언합니다.\n",
    "    - getCapacity(self) : capacity 값을 반환합니다. \n",
    "    \n",
    "[실행 명령문]  \n",
    "```python\n",
    "sedan = Sedan()\n",
    "truck = Truck()\n",
    "\n",
    "sedan.upSpeed(100)\n",
    "truck.upSpeed(80)\n",
    "\n",
    "sedan.seatNum = 5\n",
    "truck.capacity = 50\n",
    "\n",
    "print('승용차의 속도는 {}, 좌석수는 {}개 입니다'.format(sedan.speed, sedan.getSeatNum()))\n",
    "print('트럭의 속도는 {}, 총중량은 {}톤 입니다'.format(truck.speed, truck.getCapacity()))\n",
    "```\n",
    "\n",
    "[실행 결과]  \n",
    "승용차의 속도는 100, 좌석수는 5개 입니다  \n",
    "트럭의 속도는 80, 총중량은 50톤 입니다"
   ]
  },
  {
   "cell_type": "code",
   "execution_count": 127,
   "metadata": {},
   "outputs": [],
   "source": [
    "class Car:\n",
    "    speed = 0\n",
    "        \n",
    "    def upSpeed(self, value):\n",
    "        self.speed += value\n",
    "        \n",
    "    def downSpeed(self, value):\n",
    "        self.speed -= value\n",
    "        \n",
    "class Sedan(Car):\n",
    "    def __init__(self):\n",
    "        self.seatNum = 0\n",
    "        \n",
    "    def getSeatNum(self):\n",
    "        return self.seatNum\n",
    "    \n",
    "class Truck(Car):\n",
    "    def __init__(self):\n",
    "        self.capacity = 0\n",
    "    \n",
    "    def getCapacity(self):\n",
    "        return self.capacity"
   ]
  },
  {
   "cell_type": "code",
   "execution_count": 128,
   "metadata": {},
   "outputs": [
    {
     "name": "stdout",
     "output_type": "stream",
     "text": [
      "승용차의 속도는 100, 좌석수는 5개 입니다\n",
      "트럭의 속도는 80, 총중량은 50톤 입니다\n"
     ]
    }
   ],
   "source": [
    "sedan = Sedan()\n",
    "truck = Truck()\n",
    "\n",
    "sedan.upSpeed(100)\n",
    "truck.upSpeed(80)\n",
    "\n",
    "sedan.seatNum = 5\n",
    "truck.capacity = 50\n",
    "\n",
    "print('승용차의 속도는 {}, 좌석수는 {}개 입니다'.format(sedan.speed, sedan.getSeatNum()))\n",
    "print('트럭의 속도는 {}, 총중량은 {}톤 입니다'.format(truck.speed, truck.getCapacity()))"
   ]
  },
  {
   "cell_type": "code",
   "execution_count": null,
   "metadata": {},
   "outputs": [],
   "source": []
  }
 ],
 "metadata": {
  "kernelspec": {
   "display_name": "Python 3",
   "language": "python",
   "name": "python3"
  },
  "language_info": {
   "codemirror_mode": {
    "name": "ipython",
    "version": 3
   },
   "file_extension": ".py",
   "mimetype": "text/x-python",
   "name": "python",
   "nbconvert_exporter": "python",
   "pygments_lexer": "ipython3",
   "version": "3.6.5"
  }
 },
 "nbformat": 4,
 "nbformat_minor": 2
}
