{
 "cells": [
  {
   "cell_type": "markdown",
   "metadata": {},
   "source": [
    "### 문제1"
   ]
  },
  {
   "cell_type": "markdown",
   "metadata": {},
   "source": [
    "다음과 같은 문장에서 잘못된 것은 무엇인가?  \n",
    "```python\n",
    "if x = y:  \n",
    "    print('값이 같음')\n",
    "```\n"
   ]
  },
  {
   "cell_type": "markdown",
   "metadata": {},
   "source": [
    "답: = 대신 == 을 사용해야 합니다."
   ]
  },
  {
   "cell_type": "markdown",
   "metadata": {},
   "source": [
    "### 문제2"
   ]
  },
  {
   "cell_type": "markdown",
   "metadata": {},
   "source": [
    "다음 코드를 중복을 제거하여 간결하게 만드시오\n",
    "```python\n",
    "temp = int(input(\"온도를 입력하시오: \"))\n",
    "\n",
    "if temp < 0:\n",
    "\tstate = \"얼음\"\n",
    "\tprint(state)\n",
    "else :\n",
    "\tstate = \"기체\"\n",
    "\tprint(state)\n",
    "```"
   ]
  },
  {
   "cell_type": "code",
   "execution_count": null,
   "metadata": {},
   "outputs": [],
   "source": [
    "temp = int(input(\"온도를 입력하시오: \"))\n",
    "\n",
    "if temp < 0:\n",
    "    state = \"얼음\"\n",
    "else :\n",
    "    state = \"기체\"\n",
    "\n",
    "print(state)"
   ]
  },
  {
   "cell_type": "markdown",
   "metadata": {},
   "source": [
    "### 문제3"
   ]
  },
  {
   "cell_type": "markdown",
   "metadata": {},
   "source": [
    "동일한 기능을 하는 다음 두 개의 코드 중에서 가독성이 높은 것은 어떤 것인가? 그 이유는?\n",
    "```python\n",
    "if heated == False :\n",
    "\tprint(\"난방이 가동되지 않았음!\")\n",
    "\n",
    "if not heated :\n",
    "\tprint(\"난방이 가동되지 않았음!\")\n",
    "```\n"
   ]
  },
  {
   "cell_type": "markdown",
   "metadata": {},
   "source": [
    "답: 의미적으로는 두번째 코드가 가독성이 좋습니다."
   ]
  },
  {
   "cell_type": "markdown",
   "metadata": {},
   "source": [
    "### 문제4"
   ]
  },
  {
   "cell_type": "markdown",
   "metadata": {},
   "source": [
    "city 변수의 값이 ‘서울’ 또는 ‘부산’인 경우는 ‘주요도시’를 출력하고 이 외의 경우는 ‘기타 도시’ 문자열을 출력하는 if문을 작성하라"
   ]
  },
  {
   "cell_type": "code",
   "execution_count": 5,
   "metadata": {},
   "outputs": [
    {
     "name": "stdout",
     "output_type": "stream",
     "text": [
      "서울\n",
      "주요도시\n"
     ]
    }
   ],
   "source": [
    "city = input()\n",
    "if city=='서울' or city=='부산':\n",
    "    print('주요도시')\n",
    "else:\n",
    "    print('기타 도시')"
   ]
  },
  {
   "cell_type": "markdown",
   "metadata": {},
   "source": [
    "### 문제5"
   ]
  },
  {
   "cell_type": "markdown",
   "metadata": {},
   "source": [
    "사용자의 성적으로부터 학점을 계산하는 코드가 다음과 같이 작성되었다. 잘못된 것은 없는지 체크하라.\n",
    "```python\n",
    "score = int(input('성적을 입력하세요: ‘)\n",
    "grade = \"F\"\n",
    "if score >= 90:\n",
    "\tgrade = \"A\"\n",
    "if score >= 80:\n",
    "\tgrade = \"B\"\n",
    "if score >= 70:\n",
    "\tgrade = \"C\"\n",
    "if score >= 60:\n",
    "\tgrade = \"D\"\n",
    "```                 "
   ]
  },
  {
   "cell_type": "code",
   "execution_count": null,
   "metadata": {},
   "outputs": [],
   "source": [
    "score = int(input('성적을 입력하세요: ‘)\n",
    "grade = \"F\"\n",
    "if score >= 90:\n",
    "    grade = \"A\"\n",
    "elif score >= 80:\n",
    "    grade = \"B\"\n",
    "elif score >= 70:\n",
    "    grade = \"C\"\n",
    "elif score >= 60:\n",
    "    grade = \"D\""
   ]
  },
  {
   "cell_type": "markdown",
   "metadata": {},
   "source": [
    "### 문제6"
   ]
  },
  {
   "cell_type": "markdown",
   "metadata": {},
   "source": [
    "사용자로부터 정수를 입력받아서 “양수”, “0”, “음수”로 출력하는 프로그램을 작성하라."
   ]
  },
  {
   "cell_type": "code",
   "execution_count": null,
   "metadata": {},
   "outputs": [],
   "source": [
    "num = int(input())\n",
    "if num> 0:\n",
    "    print('양수')\n",
    "elif num < 0:\n",
    "    print('음수')\n",
    "else:\n",
    "    print('0')"
   ]
  },
  {
   "cell_type": "markdown",
   "metadata": {},
   "source": [
    "### 문제7"
   ]
  },
  {
   "cell_type": "markdown",
   "metadata": {},
   "source": [
    "인터넷 쇼핑몰에서 배송료를 계산하는 코드를 작성해보자. 만약 한국에서 제주도를 제외한 모든 곳은 배송료가 5000원이다. 제주도는 10000원이다. 또 해외로 배송하는 경우에는 20000원이다. \n",
    "\n",
    "[실행 결과]  \n",
    "국가를 입력하시오 : 한국  \n",
    "도를 입력하시오 : 제주도  \n",
    "배송료는 10000원입니다."
   ]
  },
  {
   "cell_type": "code",
   "execution_count": 8,
   "metadata": {},
   "outputs": [
    {
     "name": "stdout",
     "output_type": "stream",
     "text": [
      "국가를 입력하시오: 한국\n",
      "도를 입력하시오:  제주도\n",
      "배송료는 10000 입니다.\n"
     ]
    }
   ],
   "source": [
    "country = input(\"국가를 입력하시오: \")\n",
    "state = input(\"도를 입력하시오:  \")\n",
    "\n",
    "if country=='한국':\n",
    "    if state == '제주도':\n",
    "        price = 10000\n",
    "    else:\n",
    "        price = 5000\n",
    "else:\n",
    "   price = 20000 \n",
    "\n",
    "print(\"배송료는\",price,\"입니다.\")"
   ]
  },
  {
   "cell_type": "markdown",
   "metadata": {},
   "source": [
    "### 문제8"
   ]
  },
  {
   "cell_type": "markdown",
   "metadata": {},
   "source": [
    "덧셈 퀴즈를 만들어서 사용자에게 제시하고 사용자의 답을 자동으로 채점하는 프로그램을 작성해보자.\n",
    "\n",
    "[실행 결과]  \n",
    "18 + 59 의 값은? 77  \n",
    "맞았습니다.  \n",
    "\n",
    "문제를 해결하기 위해 난수 발생 기능이 필요하다. 다음과 같은 문장을 사용하라.  \n",
    "```python\n",
    "import random\n",
    "x = random.randint(0, 100)   #1에서 100사이의 난수 발생\n",
    "y = random.randint(0, 100)\n",
    "```\n"
   ]
  },
  {
   "cell_type": "code",
   "execution_count": 20,
   "metadata": {},
   "outputs": [
    {
     "name": "stdout",
     "output_type": "stream",
     "text": [
      "35+97의 값은?40\n",
      "틀렷습니다.\n"
     ]
    }
   ],
   "source": [
    "import random\n",
    "x = random.randint(0, 100)   #1에서 100사이의 난수 발생\n",
    "y = random.randint(0, 100)\n",
    "z = x + y\n",
    "ans = int(input(str(x) +'+'+str(y)+'의 값은?'))\n",
    "if ans == z :\n",
    "    print('맞았습니다.')\n",
    "else:\n",
    "    print('틀렷습니다.')"
   ]
  },
  {
   "cell_type": "markdown",
   "metadata": {},
   "source": [
    "### 문제9"
   ]
  },
  {
   "cell_type": "markdown",
   "metadata": {},
   "source": [
    "원의 넓이를 계산하는 프로그램에서 사용자가 입력한 원의 반지름을 검증해보자. 사용자가 입력한 값이 음수이면 “잘못된 값입니다”를 출력하도록 프로그램을 작성해보자.  \n",
    "\n",
    "[실행 결과]  \n",
    "원의 반지름 : 10  \n",
    "원의 면적 : 314.0\n"
   ]
  },
  {
   "cell_type": "code",
   "execution_count": 23,
   "metadata": {},
   "outputs": [
    {
     "name": "stdout",
     "output_type": "stream",
     "text": [
      "원의 반지름 :-10\n",
      "잘못된 값입니다.\n"
     ]
    }
   ],
   "source": [
    "radius = int(input(\"원의 반지름 :\"))\n",
    "if radius < 0:\n",
    "    print('잘못된 값입니다.')\n",
    "else:\n",
    "    print('원의 면적:',3.14*radius*radius)"
   ]
  },
  {
   "cell_type": "markdown",
   "metadata": {},
   "source": [
    "### 문제10"
   ]
  },
  {
   "cell_type": "markdown",
   "metadata": {},
   "source": [
    "앞에서 덧셈 퀴즈를 자동으로 생성해보았다. 이번에는 덧셈, 뺄셈, 곱셈, 나눗셈 중에서 하나를 랜덤하게 선택하고 피연산자도 난수로 생성하여 사용자에게 제시하고 사용자의 답을 자동으로 채점하는 프로그램을 작성해보자.  \n",
    "\n",
    "[실행 결과]  \n",
    "1 / 5의 값은?  \n",
    "0.2  \n",
    "맞았습니다.  \n",
    "  \n",
    "\n",
    "7 + 5의 값은?  \n",
    "12  \n",
    "맞았습니다.\n"
   ]
  },
  {
   "cell_type": "code",
   "execution_count": 56,
   "metadata": {},
   "outputs": [
    {
     "name": "stdout",
     "output_type": "stream",
     "text": [
      "47*55의 값은?42\n",
      "틀렷습니다.\n"
     ]
    }
   ],
   "source": [
    "import random\n",
    "x = random.randint(0, 100)   #1에서 100사이의 난수 발생\n",
    "y = random.randint(0, 100)\n",
    "op = random.randint(1, 4)\n",
    "\n",
    "if op == 1:\n",
    "    z = x + y\n",
    "    ans = int(input(str(x) +'+'+str(y)+'의 값은?'))\n",
    "elif op == 2:\n",
    "    z = x - y\n",
    "    ans = int(input(str(x) +'-'+str(y)+'의 값은?'))\n",
    "elif op == 3:\n",
    "    z = x * y\n",
    "    ans = int(input(str(x) +'*'+str(y)+'의 값은?'))\n",
    "else :\n",
    "    z = x / y\n",
    "    ans = int(input(str(x) +'/'+str(y)+'의 값은?'))\n",
    "    \n",
    "if ans == z :\n",
    "    print('맞았습니다.')\n",
    "else:\n",
    "    print('틀렷습니다.')    "
   ]
  },
  {
   "cell_type": "markdown",
   "metadata": {},
   "source": [
    "### 문제11"
   ]
  },
  {
   "cell_type": "markdown",
   "metadata": {},
   "source": [
    "사용자가 음수를 입력하면 \"음수가 입력되었습니다.\"와 \"음수를 입력하면 안 됩니다.\" 메시지가 출력되어야 한다. 이것을 구현한 다음 코드에서 잘못된 부분은 어떤 부분인가?\n",
    "\n",
    "```python\n",
    "number = int(input(\"정수를 입력하시오: \"))\n",
    "if number < 0 :\n",
    "\tprint(\"음수가 입력되었습니다.\")\n",
    "print(\"음수를 입력하면 안 됩니다.\")\n",
    "```"
   ]
  },
  {
   "cell_type": "code",
   "execution_count": null,
   "metadata": {},
   "outputs": [],
   "source": [
    "number = int(input(\"정수를 입력하시오: \"))\n",
    "if number < 0 :\n",
    "    print(\"음수가 입력되었습니다.\")\n",
    "    print(\"음수를 입력하면 안 됩니다.\")"
   ]
  },
  {
   "cell_type": "markdown",
   "metadata": {},
   "source": [
    "### 문제12"
   ]
  },
  {
   "attachments": {
    "image.png": {
     "image/png": "[encoded data removed]"
    }
   },
   "cell_type": "markdown",
   "metadata": {},
   "source": [
    "BMI(Body Mass Index)는 체중(kg)을 신장(m)의 제곱으로 나눈 값으로 체지방 축적을 잘 반영하기 때문에 비만도 판정에 많이 사용한다. 사용자로부터 신장과 체중을 입력받아서 BMI 값에 따라서 다음과 같은 메시지를 출력하는 프로그램을 작성하여 보자.   \n",
    "\n",
    "![image.png](attachment:image.png)  \n",
    "\n",
    "[실행 결과]  \n",
    "무게(킬로그램): 86  \n",
    "키(미터): 1.83  \n",
    "당신의 BMI: 25.680074054167036  \n",
    "과체중입니다.\n"
   ]
  },
  {
   "cell_type": "code",
   "execution_count": 63,
   "metadata": {},
   "outputs": [
    {
     "name": "stdout",
     "output_type": "stream",
     "text": [
      "무게(킬로그램) :86\n",
      "키(미터) : 1.83\n",
      "당신의 BMI : 25.680074054167036\n",
      "과체중입니다.\n"
     ]
    }
   ],
   "source": [
    "weight = float(input(\"무게(킬로그램) :\"))\n",
    "height = float(input(\"키(미터) : \"))\n",
    "bmi = weight / height**2\n",
    "print(\"당신의 BMI :\", bmi)\n",
    "if 20 <= bmi <= 24.9:\n",
    "    print('정상입니다')\n",
    "elif 25 <= bmi <= 29.9:\n",
    "    print('과체중입니다.')\n",
    "elif bim >= 30:\n",
    "    print('비만입니다.')"
   ]
  },
  {
   "cell_type": "markdown",
   "metadata": {},
   "source": [
    "### 문제13"
   ]
  },
  {
   "cell_type": "markdown",
   "metadata": {},
   "source": [
    "사용자가 입력한 정수가 2 또는 3으로 나누어지지만 2와 3으로 동시에 나누어지는 않는 수인지를 검사하는 프로그램을 작성한다.  \n",
    "\n",
    "[실행 결과]  \n",
    "정수를 입력하시오: 4  \n",
    "2 또는 3으로 나누어지지만 2와 3으로 동시에 나누어지는 않는 수\n"
   ]
  },
  {
   "cell_type": "code",
   "execution_count": 64,
   "metadata": {},
   "outputs": [
    {
     "name": "stdout",
     "output_type": "stream",
     "text": [
      "정수를 입력하시요4\n",
      "2 또는 3으로 나누어지지만 2와 3으로 동시에 나누어지는 않는 수\n"
     ]
    }
   ],
   "source": [
    "num = int(input('정수를 입력하시요'))\n",
    "\n",
    "if num%2 == 0 or num%3 == 0:\n",
    "    if not (num%2 == 0 and num%3 == 0):\n",
    "        print('2 또는 3으로 나누어지지만 2와 3으로 동시에 나누어지는 않는 수')"
   ]
  },
  {
   "cell_type": "markdown",
   "metadata": {},
   "source": [
    "### 문제14"
   ]
  },
  {
   "cell_type": "markdown",
   "metadata": {},
   "source": [
    "10부터 99까지 2자리의 정수로 이루어진 복권이 있다고 하자. 2자리가 전부 일치하면 1등상 100만원을 받는다. 2자리 중에서 하나만 일치하면 50만원을 받고 하나도 일치하지 않으면 상금은 없다. 복권 번호는 난수로 생성하도록 하자. 8번 문제를 참조한다.   \n",
    "  \n",
    "[실행 결과]  \n",
    "복권 번호(10-99사이)를 입력하시오: 89  \n",
    "상금은 없습니다.\n"
   ]
  },
  {
   "cell_type": "code",
   "execution_count": 84,
   "metadata": {},
   "outputs": [
    {
     "name": "stdout",
     "output_type": "stream",
     "text": [
      "복권 번호(10-99사이)를 입력하시오50\n",
      "로또번호 : 15\n",
      "선택번호 : 50\n",
      "상금이 없습니다.\n"
     ]
    }
   ],
   "source": [
    "import random\n",
    "lotto = random.randint(10, 99)\n",
    "\n",
    "n1 = lotto // 10\n",
    "n2 = lotto % 10 \n",
    "\n",
    "num = int(input('복권 번호(10-99사이)를 입력하시오'))\n",
    "m1 = num // 10\n",
    "m2 = num % 10\n",
    "\n",
    "print(\"로또번호 :\",lotto)\n",
    "print(\"선택번호 :\", num)\n",
    "\n",
    "if n1 == m1 and n2 == m2:\n",
    "    print(\"상금 100만원\")\n",
    "elif  n1 == m1 or n2 == m2:\n",
    "    print(\"상금 50만원\")\n",
    "else:\n",
    "    print(\"상금이 없습니다.\")"
   ]
  },
  {
   "cell_type": "code",
   "execution_count": null,
   "metadata": {},
   "outputs": [],
   "source": []
  }
 ],
 "metadata": {
  "kernelspec": {
   "display_name": "Python 3",
   "language": "python",
   "name": "python3"
  },
  "language_info": {
   "codemirror_mode": {
    "name": "ipython",
    "version": 3
   },
   "file_extension": ".py",
   "mimetype": "text/x-python",
   "name": "python",
   "nbconvert_exporter": "python",
   "pygments_lexer": "ipython3",
   "version": "3.6.4"
  }
 },
 "nbformat": 4,
 "nbformat_minor": 2
}
