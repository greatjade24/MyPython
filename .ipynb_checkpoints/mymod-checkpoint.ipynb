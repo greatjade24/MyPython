{
 "cells": [
  {
   "cell_type": "code",
   "execution_count": 10,
   "metadata": {
    "scrolled": true
   },
   "outputs": [
    {
     "name": "stdout",
     "output_type": "stream",
     "text": [
      "2 X 1 = 2 | 2 X 2 = 4 | 2 X 3 = 6 | 2 X 4 = 8 | 2 X 5 = 10 | 2 X 6 = 12 | 2 X 7 = 14 | 2 X 8 = 16 | 2 X 9 = 18 | \n",
      "3 X 1 = 3 | 3 X 2 = 6 | 3 X 3 = 9 | 3 X 4 = 12 | 3 X 5 = 15 | 3 X 6 = 18 | 3 X 7 = 21 | 3 X 8 = 24 | 3 X 9 = 27 | \n",
      "4 X 1 = 4 | 4 X 2 = 8 | 4 X 3 = 12 | 4 X 4 = 16 | 4 X 5 = 20 | 4 X 6 = 24 | 4 X 7 = 28 | 4 X 8 = 32 | 4 X 9 = 36 | \n",
      "5 X 1 = 5 | 5 X 2 = 10 | 5 X 3 = 15 | 5 X 4 = 20 | 5 X 5 = 25 | 5 X 6 = 30 | 5 X 7 = 35 | 5 X 8 = 40 | 5 X 9 = 45 | \n",
      "6 X 1 = 6 | 6 X 2 = 12 | 6 X 3 = 18 | 6 X 4 = 24 | 6 X 5 = 30 | 6 X 6 = 36 | 6 X 7 = 42 | 6 X 8 = 48 | 6 X 9 = 54 | \n",
      "7 X 1 = 7 | 7 X 2 = 14 | 7 X 3 = 21 | 7 X 4 = 28 | 7 X 5 = 35 | 7 X 6 = 42 | 7 X 7 = 49 | 7 X 8 = 56 | 7 X 9 = 63 | \n",
      "8 X 1 = 8 | 8 X 2 = 16 | 8 X 3 = 24 | 8 X 4 = 32 | 8 X 5 = 40 | 8 X 6 = 48 | 8 X 7 = 56 | 8 X 8 = 64 | 8 X 9 = 72 | \n",
      "9 X 1 = 9 | 9 X 2 = 18 | 9 X 3 = 27 | 9 X 4 = 36 | 9 X 5 = 45 | 9 X 6 = 54 | 9 X 7 = 63 | 9 X 8 = 72 | 9 X 9 = 81 | \n"
     ]
    }
   ],
   "source": [
    "for i in range(2, 10, 1):\n",
    "    for j in range(1, 10, 1):\n",
    "        print(i, \"X\", j, \"=\", i*j, end=\" | \")\n",
    "    print()"
   ]
  },
  {
   "cell_type": "code",
   "execution_count": 7,
   "metadata": {},
   "outputs": [
    {
     "name": "stdout",
     "output_type": "stream",
     "text": [
      "10\n"
     ]
    }
   ],
   "source": [
    "print(10)"
   ]
  },
  {
   "cell_type": "code",
   "execution_count": 8,
   "metadata": {},
   "outputs": [],
   "source": [
    "name = \"홍길동\""
   ]
  },
  {
   "cell_type": "code",
   "execution_count": 2,
   "metadata": {},
   "outputs": [
    {
     "name": "stdout",
     "output_type": "stream",
     "text": [
      "ok\n"
     ]
    }
   ],
   "source": [
    "import test04"
   ]
  },
  {
   "cell_type": "code",
   "execution_count": 3,
   "metadata": {},
   "outputs": [
    {
     "ename": "NameError",
     "evalue": "name 'age' is not defined",
     "output_type": "error",
     "traceback": [
      "\u001b[1;31m---------------------------------------------------------------------------\u001b[0m",
      "\u001b[1;31mNameError\u001b[0m                                 Traceback (most recent call last)",
      "\u001b[1;32m<ipython-input-3-d075b0315d53>\u001b[0m in \u001b[0;36m<module>\u001b[1;34m()\u001b[0m\n\u001b[1;32m----> 1\u001b[1;33m \u001b[0mage\u001b[0m\u001b[1;33m\u001b[0m\u001b[0m\n\u001b[0m",
      "\u001b[1;31mNameError\u001b[0m: name 'age' is not defined"
     ]
    }
   ],
   "source": [
    "age"
   ]
  },
  {
   "cell_type": "code",
   "execution_count": null,
   "metadata": {},
   "outputs": [],
   "source": []
  }
 ],
 "metadata": {
  "kernelspec": {
   "display_name": "Python 3",
   "language": "python",
   "name": "python3"
  },
  "language_info": {
   "codemirror_mode": {
    "name": "ipython",
    "version": 3
   },
   "file_extension": ".py",
   "mimetype": "text/x-python",
   "name": "python",
   "nbconvert_exporter": "python",
   "pygments_lexer": "ipython3",
   "version": "3.6.5"
  }
 },
 "nbformat": 4,
 "nbformat_minor": 2
}
